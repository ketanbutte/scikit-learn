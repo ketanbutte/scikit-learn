{
 "cells": [
  {
   "cell_type": "code",
   "execution_count": 1,
   "metadata": {},
   "outputs": [],
   "source": [
    "from sklearn import datasets"
   ]
  },
  {
   "cell_type": "code",
   "execution_count": 2,
   "metadata": {},
   "outputs": [
    {
     "name": "stdout",
     "output_type": "stream",
     "text": [
      "# packages in environment at C:\\Users\\Asus\\anaconda3\\envs\\myenv1:\n",
      "#\n",
      "# Name                    Version                   Build  Channel\n",
      "scikit-learn              0.24.0           py39he931e04_0    conda-forge\n",
      "\n",
      "Note: you may need to restart the kernel to use updated packages.\n"
     ]
    }
   ],
   "source": [
    "conda list scikit-learn"
   ]
  },
  {
   "cell_type": "markdown",
   "metadata": {},
   "source": [
    "# Machine learning: the problem setting"
   ]
  },
  {
   "cell_type": "markdown",
   "metadata": {},
   "source": [
    "Learning Problems fall into few categories-\n",
    "- Supervised Learning - Basically supervised learning is a learning in which we teach or train the machine using data which is well labeled that means some data is already tagged with the correct answer. The Problem can either be\n",
    "    - Regression- if the desired output consists of one or more continuous variables, then the task is called\n",
    "      regression. An example of a regression problem would be the prediction of the length of a salmon as a\n",
    "      function of its age and weight.\n",
    "      \n",
    "    - Classification- samples belong to two or more classes and we want to learn from already labeled data how\n",
    "      to predict the class of unlabeled data.\n",
    "\n",
    "\n",
    "\n",
    "\n",
    "- Unsupervised Learning\n",
    "\n",
    "\n",
    "(https://www.geeksforgeeks.org/supervised-unsupervised-learning/)\n"
   ]
  },
  {
   "cell_type": "code",
   "execution_count": null,
   "metadata": {},
   "outputs": [],
   "source": []
  }
 ],
 "metadata": {
  "kernelspec": {
   "display_name": "Python 3",
   "language": "python",
   "name": "python3"
  },
  "language_info": {
   "codemirror_mode": {
    "name": "ipython",
    "version": 3
   },
   "file_extension": ".py",
   "mimetype": "text/x-python",
   "name": "python",
   "nbconvert_exporter": "python",
   "pygments_lexer": "ipython3",
   "version": "3.9.1"
  }
 },
 "nbformat": 4,
 "nbformat_minor": 4
}
